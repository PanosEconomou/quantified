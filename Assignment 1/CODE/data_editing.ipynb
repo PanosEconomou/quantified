{
 "cells": [
  {
   "cell_type": "code",
   "execution_count": 2,
   "metadata": {},
   "outputs": [],
   "source": [
    "import numpy as np\n",
    "import matplotlib.pyplot as plt\n",
    "import pandas as pd\n",
    "import datetime\n",
    "from datetime import timedelta\n",
    "import os\n",
    "from mycolorpy import colorlist as mcp\n",
    "import mpld3"
   ]
  },
  {
   "cell_type": "code",
   "execution_count": 6,
   "metadata": {},
   "outputs": [],
   "source": [
    "# Define some useful constats\n",
    "LOG_FILE    = '/Users/panos/Documents/NYU/1. Courses/Quantified_Self/Assignment 1/CODE/Log/log.txt'\n",
    "LOG_FILE_BU = '/Users/panos/Documents/NYU/1. Courses/Quantified_Self/Assignment 1/CODE/Log/Backup/log.txt'\n",
    "CONVERT     =  timedelta(hours=4)\n",
    "COLORS      = {'1': '#ac725e', '2': '#d06b64', '3': '#f83a22', '4': '#fa573c', '5': '#ff7537', '6': '#ffad46', '7': '#42d692', '8': '#16a765', '9': '#7bd148', '10': '#b3dc6c', '11': '#fbe983', '12': '#fad165', '13': '#92e1c0', '14': '#9fe1e7', '15': '#9fc6e7', '16': '#4986e7', '17': '#9a9cff', '18': '#b99aff', '19': '#c2c2c2', '20': '#cabdbf', '21': '#cca6ac', '22': '#f691b2', '23': '#cd74e6', '24': '#a47ae2'}\n",
    "COLORS      = {str(i):color for i,color in enumerate(mcp.gen_color(cmap='hsv',n=20))}\n",
    "KEYMAP      = {key:label for label,key in pd.read_csv('keymap.txt').to_numpy()}\n"
   ]
  },
  {
   "cell_type": "code",
   "execution_count": 7,
   "metadata": {},
   "outputs": [],
   "source": [
    "# import the data into a dataset\n",
    "def read_data(filename:str):\n",
    "    # First regularize the file, by removing stupid formatting\n",
    "    file = open(filename)       # Open the file\n",
    "    lines = file.readlines()    # Read the data\n",
    "    file.close()                # Close it to avoid interference\n",
    "\n",
    "    # Initialize output array\n",
    "    output = []\n",
    "    chars  = []\n",
    "    for line in lines:\n",
    "        if line == '' or line == '\\n': continue     # Skip invalid lines\n",
    "        line    = line.replace(',,43',',43')        # Handle special cases\n",
    "        split   = line.split(',')                   # Split the line\n",
    "        \n",
    "        # Append output\n",
    "        chars.append(split[0])\n",
    "        output.append(split[1:])\n",
    "\n",
    "    return np.array(chars),np.array(output,dtype=int).T\n",
    "\n",
    "rms = {'12':0.4,'13':0.6,'14':0.5,'15':0.3,'0':0.2,'49':.6}\n",
    "\n",
    "def process(filename:str,rms=rms):\n",
    "    chars,data = read_data(filename)\n",
    "    dataset = np.array([chars,*data]).T\n",
    "\n",
    "    new_dataset = []\n",
    "    for x in dataset:\n",
    "        if x[1] in rms.keys():\n",
    "            p = np.random.rand()\n",
    "            if p > rms[x[1]]:\n",
    "                new_dataset.append(x)\n",
    "        \n",
    "        else:\n",
    "            new_dataset.append(x)\n",
    "\n",
    "    return np.array(new_dataset)"
   ]
  },
  {
   "cell_type": "code",
   "execution_count": 27,
   "metadata": {},
   "outputs": [
    {
     "data": {
      "text/plain": [
       "dict_keys(['12', '13', '14', '15', '0', '49'])"
      ]
     },
     "execution_count": 27,
     "metadata": {},
     "output_type": "execute_result"
    }
   ],
   "source": []
  },
  {
   "cell_type": "code",
   "execution_count": 18,
   "metadata": {},
   "outputs": [],
   "source": [
    "dataset = np.array([chars,*data])"
   ]
  },
  {
   "cell_type": "code",
   "execution_count": 24,
   "metadata": {},
   "outputs": [
    {
     "data": {
      "text/plain": [
       "637178"
      ]
     },
     "execution_count": 24,
     "metadata": {},
     "output_type": "execute_result"
    }
   ],
   "source": [
    "len(dataset.T)"
   ]
  },
  {
   "cell_type": "code",
   "execution_count": 23,
   "metadata": {},
   "outputs": [],
   "source": [
    "outfile = 'QS_Panos_shareable.csv'\n",
    "out = open(outfile,'w')\n",
    "\n",
    "N = 100\n",
    "for x in dataset.T[:N]:\n",
    "    out.write(x[0]+','+x[1]+','+x[2]+'\\n')\n",
    "out.close()"
   ]
  },
  {
   "cell_type": "code",
   "execution_count": null,
   "metadata": {},
   "outputs": [],
   "source": []
  }
 ],
 "metadata": {
  "interpreter": {
   "hash": "c6e4e9f98eb68ad3b7c296f83d20e6de614cb42e90992a65aa266555a3137d0d"
  },
  "kernelspec": {
   "display_name": "Python 3.9.7 ('base')",
   "language": "python",
   "name": "python3"
  },
  "language_info": {
   "codemirror_mode": {
    "name": "ipython",
    "version": 3
   },
   "file_extension": ".py",
   "mimetype": "text/x-python",
   "name": "python",
   "nbconvert_exporter": "python",
   "pygments_lexer": "ipython3",
   "version": "3.9.10"
  },
  "orig_nbformat": 4
 },
 "nbformat": 4,
 "nbformat_minor": 2
}
